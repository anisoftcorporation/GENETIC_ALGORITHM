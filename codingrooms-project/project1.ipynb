{
 "cells": [
  {
   "cell_type": "markdown",
   "id": "7e39e1a4",
   "metadata": {
    "editable": true,
    "slideshow": {
     "slide_type": ""
    },
    "tags": []
   },
   "source": [
    "## Introduction to Graph Coloring \n",
    "\n",
    "### Project description:\n",
    "\n",
    "In this project, you will learn more about genetic algorithms and use your knowledge to solve the graph coloring problem. You will be asked to implement a solution to this problem using the DEAP package from **Learn to use a Genetic Algorithm Assignment**. \n",
    "\n",
    "### Project goals:\n",
    "\n",
    "1. Understand the graph coloring problems\n",
    "2. Learn how to represent graphs in DEAP\n",
    "3. Write the fitness function for the graph coloring problem\n",
    "4. Implement a genetic algorithm to find graph colorings\n",
    "\n",
    "### Project question overview:\n",
    "\n",
    "1. Write a function to read in a graph file as a Graph object. [Question 1 here.](#question1)\n",
    "2. Write a function to compute the fitness of an individual. [Question 2 here.](#question2)\n",
    "3. Find a new parameterization of the model for a large graph. [Question 3 here.](#question3)\n"
   ]
  },
  {
   "cell_type": "markdown",
   "id": "69f07f88",
   "metadata": {},
   "source": [
    "## Graph Coloring Problem\n",
    "\n",
    "We will use genetic algorithms (GAs) to solve the graph coloring problem. The problem takes as input a graph $G=(V,E)$ and an integer $k$ which designates the numbers of different colors (labels) to be used. A successful coloring assigns each vertex $v\\in V$ a color $\\in \\{1,2,3,...,k\\}$ such that all adjacent vertices have different colors (i.e. for all vertices $v\\in V$, if there exists an edge $e \\in E$ between $v_1$ and $v_2$ then $v_1$ and $v_2$, must have different colors). The general problem of graph coloring is computationally intractable for $k>2$, so we will use the GA to search heuristically for solutions. "
   ]
  },
  {
   "cell_type": "markdown",
   "id": "72d8e326",
   "metadata": {},
   "source": [
    "<a id='representation'></a>\n",
    "## Representation\n",
    "\n",
    "The input for each graph will be a file in the `graphs/` directory. The first line of each file will indicate how many nodes there are in the graph, $n$, and the second line will indicate how many colors to use, $k$, and the remainder of the file will be a list of edges represented as ordered pairs (the two connected vertices separated by a space) with one's edge per line. \n",
    "\n",
    "The following figure shows the contents of `graphs/graph_1.txt` on the left, a drawing of the uncolored graph in the middle, and a drawing of the colored graph on the right. Note that colorings for the graphs are not necessarily unique.\n",
    "\n",
    "<img src=\"images/graph1.png\" alt=\"Drawing\" style=\"width:800px;\"/>\n",
    "\n",
    "You can assume that the nodes in any input graph are each labeled with a unique (for the node) positive integer starting at zero. Thus, in the example graph above there are four vertices, connected by three edges, and the task is to find a 3-coloring of the graph. \n",
    "\n",
    "Your GA will maintain a population of individuals, where each individual specifies a candidate coloring for the graph. The most natural representation of a candidate graph coloring along the chromosome is one where the first position corresponds to Node 1, the second to Node 2, etc. Then the value (allele) at each position will correspond to the color. \n"
   ]
  },
  {
   "cell_type": "markdown",
   "id": "2a51c69c",
   "metadata": {},
   "source": [
    "### Imports \n",
    "\n",
    "We will first import the required modules for this notebook. \n",
    "\n",
    "- `random` gives us a way to generate random bits;\n",
    "- `numpy` supports mathematical operations in multidimensional arrays;\n",
    "- `base` gives us access to the Toolbox and base Fitness;\n",
    "- `creator` allows us to create our types;\n",
    "- `tools` grants us access to the operator's bank;\n",
    "- `algorithms` enable us some ready generic evolutionary loops;\n",
    "- `math` allows us to use basic mathematical functions."
   ]
  },
  {
   "cell_type": "code",
   "execution_count": 1,
   "id": "5ad247c9",
   "metadata": {},
   "outputs": [],
   "source": [
    "import random\n",
    "import numpy as np\n",
    "from deap import base, creator, tools, algorithms\n",
    "import math"
   ]
  },
  {
   "cell_type": "markdown",
   "id": "f0c531c0",
   "metadata": {},
   "source": [
    "### Setting up\n",
    "\n",
    "We will set up our GA by first creating the same types used in **Learn to use a Genetic Algorithm Assignment**."
   ]
  },
  {
   "cell_type": "code",
   "execution_count": 2,
   "id": "63b6c71d",
   "metadata": {},
   "outputs": [],
   "source": [
    "creator.create(\"FitnessMax\", base.Fitness, weights=(1.0,))\n",
    "creator.create(\"Individual\", list, fitness=creator.FitnessMax)"
   ]
  },
  {
   "cell_type": "markdown",
   "id": "3708b0b7",
   "metadata": {},
   "source": [
    "### File I/O and Graph Data Structure\n",
    "\n",
    "Before creating individuals, we first must read an arbitrary graph from the `graphs/` directory into a data structure. Being that the data is already represented as an adjacency matrix, we will use an adjacency list representation to easily access the graph.  An adjacency list represents a graph as an array of linked lists. Each node in the graph will have a linked list of all its adjacent nodes. The structure of this list will allow for an efficient way to check if two nodes share an edge. The figure below shows the example graph given before represented as an adjacency list.\n",
    "\n",
    "<img src=\"images/adj_list.png\" alt=\"Drawing\" style=\"width:800px;\"/>\n",
    "\n",
    "To support this representation we will use two classes. First, the `AdjNode` class will be used to represent the nodes of the graph. This class has three attributes, the value of the vertex, the first adjacent node in the list. The second class is `Graph` and will be used to store all of the nodes and their adjacency lists. The `Graph` class has four attributes, the number of nodes $n$, the number of colors $k$, the array `graph` that will store the adjacency matrix of nodes, and `color_assignment`, a list you will need to use to assign a color to each node. Additionally, there is a helper function `add_edge(s,d)`, that when supplied with two nodes (`s` and `d`) will add an edge to the graph.\n",
    "\n",
    "**To use this structure to check if, say, an edge exists between node 2 and node 3, you can access the Graph.graph\\[2\\] (a linked list of the neighbors of node 2) and traverse it, checking if any of the linked nodes are node.vertex == 3. The symmetric case also works (accessing Graph.graph at 3 and checking for 2 in the linked list of neighbors). To assign a color to a node (e.g., coloring node 4 with color 7) you can use Graph.color_assignment\\[4\\] = 7**\n"
   ]
  },
  {
   "cell_type": "code",
   "execution_count": 3,
   "id": "b9c72e25",
   "metadata": {},
   "outputs": [],
   "source": [
    "class AdjNode:\n",
    "    def __init__(self, value):\n",
    "        self.vertex = value\n",
    "        self.next = None\n",
    "\n",
    "\n",
    "class Graph:\n",
    "    def __init__(self, num, colors):\n",
    "        self.n = num\n",
    "        self.k = colors\n",
    "        self.graph = [None] * self.n\n",
    "        self.color_assignment = [None] * self.n\n",
    "        \n",
    "    def get_node(self, s):\n",
    "        return self.graph[s]\n",
    "        \n",
    "    # Add edges\n",
    "    def add_edge(self, s, d):\n",
    "        node = AdjNode(d)  # creates a new node for the destination half of the edge\n",
    "        node.next = self.graph[s]  # connects the newly-created node to the existing linked list (at the front)\n",
    "        self.graph[s] = node  # updates the list to start with the new node (points to the rest of the list)\n",
    "\n",
    "        node = AdjNode(s)\n",
    "        node.next = self.graph[d]\n",
    "        self.graph[d] = node"
   ]
  },
  {
   "cell_type": "markdown",
   "id": "6562f4dd",
   "metadata": {},
   "source": [
    "<a id='question1'></a>\n",
    "# Question 1\n",
    "\n",
    "Write a function `init_graph(file)` that creates a graph from a text file. Recall that the first line of the text file will be an integer value, $n$, that represents the number of nodes in the graph $G=(V,E)$, and the second line will be an integer value, $k$, that represents the number of colors to be used. The following lines will be ordered pairs separated by a space delimiter, for each ordered pair in the text file there will be a corresponding edge between the given nodes. Refer to the [Representation](#representation) section for more details. \n",
    "\n",
    "The input of `init_graph(file)` will be a path to a graph file in the `graphs/` directory (ex. `graphs/graph_1.txt`) and the output will be a `Graph` object. "
   ]
  },
  {
   "cell_type": "code",
   "execution_count": 4,
   "id": "d352476a",
   "metadata": {
    "name": "init_graph"
   },
   "outputs": [],
   "source": [
    "def init_graph(file):\n",
    "    '''\n",
    "    Function to read in graph file and create a graph object. \n",
    "    Inputs: \n",
    "        file: path to a graph file in /graphs\n",
    "    Outputs:\n",
    "        graph: Graph object containing edges given in file\n",
    "    '''\n",
    "   \n",
    "    line = ()\n",
    "    with open(file, \"r\") as f:\n",
    "        lines = f.readlines()\n",
    "    count = 0\n",
    "    num = int(lines[0].strip())\n",
    "    \n",
    "    \n",
    "    color = int(lines[1] .strip())\n",
    "    \n",
    "    graph = Graph(num,color)\n",
    "    for i in range(2,len(lines)):\n",
    "       row = lines[i].strip()\n",
    "       nodes = row.split()\n",
    "       node1 = int(nodes[0])\n",
    "       node2 = int(nodes[1])\n",
    "       graph.add_edge(node1,node2)\n",
    "\n",
    "    return graph"
   ]
  },
  {
   "cell_type": "markdown",
   "id": "58c66589",
   "metadata": {},
   "source": [
    "### Creating Individuals\n",
    "\n",
    "As mentioned prior, the most natural representation of a candidate graph coloring along the chromosome is one where the first position corresponds to Node 1, the second to Node 2, etc. Then the value (allele) at each position will correspond to the color. This bit string encoding will require that you allocate $\\lceil log_2k \\rceil$ bits for each gene. This scheme has the drawback that for some values of $k$, not all bit values will correspond to a legal color. Those individuals with an invalid coloring will have a fitness of 0. \n",
    "\n",
    "The figure below shows this encoding scheme on our example graph. Here, $k=3$ and $n=4$. This means that each individual will be length $l=4\\lceil log_2k \\rceil$. In the example, the substring 00 encodes red, 01 encodes blue, and 10 encodes green. Since 3 is not a power of 2, the substring 11 is not used.\n",
    "\n",
    "<img src=\"images/encoding.png\" alt=\"Drawing\" style=\"width:800px;\"/>\n",
    "\n",
    "We will need to register the boolean attribute as well as the individual and population with the DEAP toolbox. We first instantiate the toolbox and then register the boolean attributes since they are both independent of the given graph. Next, we create the function `register_ind(graph)` which takes a graph and registers the correct size of the individual to the toolbox. This function will also register the population given to the individual. This function will be used later in the main method but will be helpful now in testing the fitness function. \n"
   ]
  },
  {
   "cell_type": "code",
   "execution_count": 5,
   "id": "fa346434",
   "metadata": {},
   "outputs": [],
   "source": [
    "toolbox = base.Toolbox()\n",
    "toolbox.register(\"attr_bool\", random.randint, 0, 1)\n",
    "\n",
    "def register_ind(graph):\n",
    "    ##get value for n and k from graph\n",
    "    n = graph.n\n",
    "    k = graph.k\n",
    "    \n",
    "    ##calculate the size of each individual\n",
    "    ind_size = math.ceil(math.log2(k))*n\n",
    "    \n",
    "    ##register individual and population with toolbox\n",
    "    toolbox.register(\"individual\", tools.initRepeat, creator.Individual, toolbox.attr_bool, n=ind_size)\n",
    "    toolbox.register(\"population\", tools.initRepeat, list, toolbox.individual)"
   ]
  },
  {
   "cell_type": "markdown",
   "id": "5de1faeb",
   "metadata": {},
   "source": [
    "### Fitness Function\n",
    "\n",
    "For each individual, we want to know how close its encoded coloring is to a legal coloring of the graph (recall, a legal coloring is one where no nodes connected by an edge have the same color). Let $G=(V,E)$ be a graph with $n$ nodes and $m$ edges. If $c(i)$ is the assigned color of node $i$, then a coloring of a graph is $C(i)=\\{c(0),c(1),...c(n)\\}$. For a given edge $i,j\\in E$, let the function $\\delta(i,j) = 1$ if $c(i)\\not=c(j)$, and $\\delta(i,j)=0$ if $c(i)=c(j)$. A natural fitness function then is:\n",
    "\n",
    "$$F(C(G)) = \\frac{\\sum_{i,j\\in E} \\delta(i,j)}{m}$$\n",
    "\n",
    "That is the fraction of edges where the endpoints do not share the same color, divided by the total number of edges.\n",
    "<a id='question2'></a>\n",
    "# Question 2\n",
    "\n",
    "Write the fitness function `eval_graph(graph, individual)` that computes the fitness of an individual given a graph and individual. The input will be a graph object and an individual object. The output will be the total fitness of the indiviudal. **Remember that if $\\lceil log_2(k) \\rceil \\not= log_2(k)$ then some color encodings will be invalid**.\n"
   ]
  },
  {
   "cell_type": "code",
   "execution_count": 14,
   "id": "238fe5c1-99bc-4b19-9cd9-8c722d195886",
   "metadata": {},
   "outputs": [],
   "source": [
    "def isAdj(graph,a,b):\n",
    "    number = graph.n\n",
    "    last = graph.graph[a]\n",
    "    last_node = last.vertex\n",
    "    if last_node == b:\n",
    "        return True\n",
    "    elif last.next:\n",
    "        if last.next.vertex == b:\n",
    "            return True\n",
    "   \n",
    "    else:\n",
    "        return False\n",
    "    "
   ]
  },
  {
   "cell_type": "code",
   "execution_count": 15,
   "id": "eb3bc422",
   "metadata": {
    "name": "eval_graph"
   },
   "outputs": [],
   "source": [
    "def eval_graph(graph, individual):\n",
    "    \n",
    "    '''\n",
    "    Function to compute the fitness of an individual for the graph coloring problem. \n",
    "    Inputs: \n",
    "        individual: individual object from DEAP toolbox\n",
    "        graph: graph object containing nodes and edges\n",
    "    Outputs:\n",
    "        fitness: fitness of an individual coloring\n",
    "    '''\n",
    "    fitness = 0\n",
    "    number = graph.n\n",
    "    bit_len = len(individual)\n",
    "    for n in range(0,bit_len,2):\n",
    "       \n",
    "        color_bin = str(individual[n])+str(individual[n+1])\n",
    "        dec_val = int(color_bin,2)\n",
    "        if dec_val > graph.k-1:\n",
    "            return(fitness, )\n",
    "        node_val = int(n/2)\n",
    "       \n",
    "        \n",
    "        graph.color_assignment[node_val]=dec_val\n",
    "        \n",
    "    # your code here\n",
    "    \n",
    "    fitValue = 0\n",
    "    edge_count = 0\n",
    "    edge_matrix = dict()\n",
    "    \n",
    "    for i in range(number):\n",
    "       \n",
    "         for j in range(number):\n",
    "\n",
    "            if(isAdj(graph,i,j) or isAdj(graph,j,i)):\n",
    "               edge = str(i)+str(j)\n",
    "               reverse_edge = str(j)+str(i)\n",
    "               if (edge not in edge_matrix) and (reverse_edge not in edge_matrix):\n",
    "                edge_count +=1\n",
    "                if graph.color_assignment[i] == graph.color_assignment[j]:\n",
    "                    edge_matrix[edge] = 0\n",
    "                else:\n",
    "                    edge_matrix[edge] = 1\n",
    "              \n",
    "       \n",
    "        \n",
    "        \n",
    "\n",
    "        \n",
    "        \n",
    "   \n",
    "    fitValue = sum(edge_matrix.values())\n",
    "    fitness = fitValue/edge_count\n",
    "\n",
    "\n",
    "    return (fitness,)"
   ]
  },
  {
   "cell_type": "markdown",
   "id": "3bb2a9e4",
   "metadata": {},
   "source": [
    "Your function should return (0.6666666666666666,) for inputs below:"
   ]
  },
  {
   "cell_type": "code",
   "execution_count": 17,
   "id": "c18f63d8",
   "metadata": {
    "tags": [
     "remove_cell"
    ]
   },
   "outputs": [
    {
     "data": {
      "text/plain": [
       "(0.3333333333333333,)"
      ]
     },
     "execution_count": 17,
     "metadata": {},
     "output_type": "execute_result"
    }
   ],
   "source": [
    "graph = init_graph(\"graphs/graph_1.txt\")\n",
    "register_ind(graph)\n",
    "\n",
    "ind = creator.Individual([1, 0, 1, 0, 1, 0, 0, 0])\n",
    "eval_graph(graph, ind)"
   ]
  },
  {
   "cell_type": "markdown",
   "id": "17b5bbb8",
   "metadata": {},
   "source": [
    "### Update Toolbox and Evolve Population\n",
    "\n",
    "Now that we have all of the necessary functions to create a graph and calculate the fitness of an individual, we can create our population and allow it to evolve. To do this, we will need to write a main function that takes a path to a graph file and finds the coloring with the highest fitness. Note that the range of the fitness function is $[0,1]$. \n",
    "<a id='question3'></a>\n",
    "# Question 3\n",
    "\n",
    "The parameterization that we used in the previous assignment will not be sufficient to guarantee (with a high probability) convergence to a fitness value of 1 for larger graphs such as ``graph_4.txt``. Before running the main function, we will need to update the parameterization of the model. Recall from the previous assignment that ``cxpb`` is the probability with which two individuals are crossed, ``mutpb`` is the probability for mutating an individual, ``indpb`` is the independent probability of each attribute to be mutated, ``tournsize`` is the size of each tournament, ``n`` is the population size, and  ``ngen`` is the number of generations. Below, set the values of these parameters such that a run of the main function will return an individual with fitness 1 for ``graph_4.txt``. \n"
   ]
  },
  {
   "cell_type": "code",
   "execution_count": 9,
   "id": "09dc0a3b",
   "metadata": {},
   "outputs": [],
   "source": [
    "def main(file):\n",
    "    import numpy\n",
    "    \n",
    "    '''\n",
    "    Set the following parameters: indpb, tournsize, cxpb, mutpb, ngen, and n. \n",
    "    Below is the orginal parameterization of the model:\n",
    "        indpb = 0.10\n",
    "        tournsize = 3\n",
    "        cxpb = 0.5\n",
    "        mutpb = 0.2\n",
    "        ngen = 30\n",
    "        n=50\n",
    "    '''\n",
    "    indpb = 0.10\n",
    "    tournsize = 3\n",
    "    cxpb = 0.5\n",
    "    mutpb = 0.2\n",
    "    ngen = 30\n",
    "    n=50\n",
    "    # your code here\n",
    "    \n",
    "    \n",
    "    graph = init_graph(file)\n",
    "    register_ind(graph)\n",
    "    \n",
    "    toolbox.register(\"evaluate\", eval_graph, graph)\n",
    "    toolbox.register(\"mate\", tools.cxTwoPoint)\n",
    "    toolbox.register(\"mutate\", tools.mutFlipBit, indpb=indpb)\n",
    "    toolbox.register(\"select\", tools.selTournament, tournsize=tournsize)\n",
    "    \n",
    "    pop = toolbox.population(n=n)\n",
    "    hof = tools.HallOfFame(1)\n",
    "    stats = tools.Statistics(lambda ind: ind.fitness.values)\n",
    "    stats.register(\"avg\", numpy.mean)\n",
    "    stats.register(\"min\", numpy.min)\n",
    "    stats.register(\"max\", numpy.max)\n",
    "    \n",
    "    \n",
    "    pop, logbook = algorithms.eaSimple(pop, toolbox, cxpb=cxpb, mutpb=mutpb, ngen=ngen, stats=stats, halloffame=hof, verbose=True)\n",
    "    \n",
    "    \n",
    "    return pop, logbook, hof"
   ]
  },
  {
   "cell_type": "code",
   "execution_count": 10,
   "id": "29b7713c",
   "metadata": {
    "name": "main"
   },
   "outputs": [
    {
     "name": "stdout",
     "output_type": "stream",
     "text": [
      "gen\tnevals\tavg     \tmin     \tmax     \n",
      "0  \t50    \t0.753548\t0.629032\t0.870968\n",
      "1  \t35    \t0.772258\t0.629032\t0.870968\n",
      "2  \t35    \t0.797097\t0.66129 \t0.870968\n",
      "3  \t33    \t0.812258\t0.709677\t0.887097\n",
      "4  \t31    \t0.822581\t0.677419\t0.903226\n",
      "5  \t30    \t0.832903\t0.741935\t0.903226\n",
      "6  \t37    \t0.82871 \t0.66129 \t0.935484\n",
      "7  \t27    \t0.840968\t0.709677\t0.935484\n",
      "8  \t38    \t0.865484\t0.677419\t0.935484\n",
      "9  \t22    \t0.884839\t0.725806\t0.951613\n",
      "10 \t25    \t0.898065\t0.741935\t0.951613\n",
      "11 \t25    \t0.910645\t0.741935\t0.967742\n",
      "12 \t36    \t0.922258\t0.693548\t0.967742\n",
      "13 \t35    \t0.931613\t0.741935\t0.967742\n",
      "14 \t30    \t0.939032\t0.790323\t0.967742\n",
      "15 \t29    \t0.947097\t0.758065\t0.967742\n",
      "16 \t29    \t0.942903\t0.806452\t0.967742\n",
      "17 \t31    \t0.949355\t0.790323\t0.967742\n",
      "18 \t19    \t0.962258\t0.806452\t0.967742\n",
      "19 \t20    \t0.943871\t0.725806\t0.967742\n",
      "20 \t34    \t0.928387\t0.741935\t0.967742\n",
      "21 \t36    \t0.946129\t0.822581\t0.967742\n",
      "22 \t27    \t0.949677\t0.774194\t0.967742\n",
      "23 \t24    \t0.944516\t0.790323\t0.967742\n",
      "24 \t32    \t0.947097\t0.741935\t0.983871\n",
      "25 \t29    \t0.944516\t0.790323\t0.983871\n",
      "26 \t26    \t0.939032\t0.709677\t0.983871\n",
      "27 \t33    \t0.95871 \t0.725806\t0.983871\n",
      "28 \t29    \t0.943548\t0.725806\t0.983871\n",
      "29 \t34    \t0.954839\t0.758065\t0.983871\n",
      "30 \t35    \t0.955161\t0.741935\t0.983871\n",
      "Best individual is: [1, 0, 1, 0, 0, 1, 1, 1, 0, 1, 0, 0, 1, 0, 0, 1, 1, 0, 0, 0, 1, 1, 1, 1, 0, 0, 0, 1, 0, 0, 1, 1, 1, 1, 1, 1, 0, 0, 1, 0, 0, 1, 0, 1, 0, 1, 1, 0, 1, 0, 0, 1, 0, 1, 0, 0, 0, 0, 1, 1, 0, 0, 1, 1, 0, 0, 1, 1, 1, 1, 0, 1, 0, 0]\n",
      "with fitness: (0.9838709677419355,)\n"
     ]
    }
   ],
   "source": [
    "pop, log, hof = main(\"graphs/graph_4.txt\")\n",
    "print(\"Best individual is: %s\\nwith fitness: %s\" % (hof[0], hof[0].fitness))"
   ]
  },
  {
   "cell_type": "code",
   "execution_count": 11,
   "id": "0e56f6e0",
   "metadata": {
    "tags": [
     "remove_cell"
    ]
   },
   "outputs": [
    {
     "data": {
      "image/png": "[encoded data removed]",
      "text/plain": [
       "<Figure size 640x480 with 1 Axes>"
      ]
     },
     "metadata": {},
     "output_type": "display_data"
    }
   ],
   "source": [
    "import matplotlib.pyplot as plt\n",
    "gen, avg, min_, max_ = log.select(\"gen\", \"avg\", \"min\", \"max\")\n",
    "plt.plot(gen, avg, label=\"average\")\n",
    "plt.plot(gen, min_, label=\"minimum\")\n",
    "plt.plot(gen, max_, label=\"maximum\")\n",
    "plt.xlabel(\"Generation\")\n",
    "plt.ylabel(\"Fitness\")\n",
    "plt.legend(loc=\"lower right\")\n",
    "plt.show()"
   ]
  },
  {
   "cell_type": "code",
   "execution_count": null,
   "id": "94129be8-33df-4a54-9400-72f4d6b234ee",
   "metadata": {},
   "outputs": [],
   "source": []
  }
 ],
 "metadata": {
  "kernelspec": {
   "display_name": "Python 3 - python3",
   "language": "python3",
   "name": "python3"
  },
  "language_info": {
   "codemirror_mode": {
    "name": "ipython",
    "version": 3
   },
   "file_extension": ".py",
   "mimetype": "text/x-python",
   "name": "python",
   "nbconvert_exporter": "python",
   "pygments_lexer": "ipython3",
   "version": "3.11.9"
  }
 },
 "nbformat": 4,
 "nbformat_minor": 5
}
