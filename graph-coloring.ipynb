{
 "cells": [
  {
   "cell_type": "code",
   "execution_count": 1,
   "id": "ac3dd8db",
   "metadata": {},
   "outputs": [],
   "source": [
    "import random\n",
    "import numpy as np\n",
    "from deap import base, creator, tools, algorithms\n",
    "import math"
   ]
  },
  {
   "cell_type": "code",
   "execution_count": 2,
   "id": "1120d5f1",
   "metadata": {},
   "outputs": [],
   "source": [
    "creator.create(\"FitnessMax\", base.Fitness, weights=(1.0,))\n",
    "creator.create(\"Individual\", list, fitness=creator.FitnessMax)"
   ]
  },
  {
   "cell_type": "code",
   "execution_count": null,
   "id": "fa35dcab",
   "metadata": {},
   "outputs": [],
   "source": [
    "class AdjNode:\n",
    "    def __init__(self, value):\n",
    "        self.vertex = value\n",
    "        self.next = None\n",
    "\n",
    "\n",
    "class Graph:\n",
    "    def __init__(self, num, colors):\n",
    "        self.n = num\n",
    "        self.k = colors\n",
    "        self.graph = [None] * self.n\n",
    "        self.color_assignment = [None] * self.n\n",
    "        \n",
    "    def get_node(self, s):\n",
    "        return self.graph[s]\n",
    "        \n",
    "    # Add edges\n",
    "    def add_edge(self, s, d):\n",
    "        node = AdjNode(d)  # creates a new node for the destination half of the edge\n",
    "        node.next = self.graph[s]  # connects the newly-created node to the existing linked list (at the front)\n",
    "        self.graph[s] = node  # updates the list to start with the new node (points to the rest of the list)\n",
    "\n",
    "        node = AdjNode(s)\n",
    "        node.next = self.graph[d]\n",
    "        self.graph[d] = node"
   ]
  },
  {
   "cell_type": "code",
   "execution_count": 4,
   "id": "62f7cc21",
   "metadata": {},
   "outputs": [],
   "source": [
    "def init_graph(file):\n",
    "    n=5\n",
    "    k=3\n",
    "    graph = Graph(n,k)\n",
    "    '''\n",
    "    Function to read in graph file and create a graph object. \n",
    "    Inputs: \n",
    "        file: path to a graph file in /graphs\n",
    "    Outputs:\n",
    "        graph: Graph object containing edges given in file\n",
    "    '''\n",
    "    \n",
    "   # your code here\n",
    "\n",
    "    return graph"
   ]
  },
  {
   "cell_type": "code",
   "execution_count": 6,
   "id": "a748d0bb",
   "metadata": {},
   "outputs": [
    {
     "data": {
      "text/plain": [
       "5"
      ]
     },
     "execution_count": 6,
     "metadata": {},
     "output_type": "execute_result"
    }
   ],
   "source": [
    "p = init_graph(\"asasa\")\n",
    "p.n"
   ]
  }
 ],
 "metadata": {
  "kernelspec": {
   "display_name": "LAB",
   "language": "python",
   "name": "python3"
  },
  "language_info": {
   "codemirror_mode": {
    "name": "ipython",
    "version": 3
   },
   "file_extension": ".py",
   "mimetype": "text/x-python",
   "name": "python",
   "nbconvert_exporter": "python",
   "pygments_lexer": "ipython3",
   "version": "3.13.5"
  }
 },
 "nbformat": 4,
 "nbformat_minor": 5
}
