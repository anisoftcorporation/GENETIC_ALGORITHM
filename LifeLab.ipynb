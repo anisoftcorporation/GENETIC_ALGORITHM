{
 "cells": [
  {
   "cell_type": "code",
   "execution_count": 22,
   "id": "8e4ada15",
   "metadata": {},
   "outputs": [],
   "source": [
    "import random\n",
    "import numpy as np\n",
    "from deap import base, creator, tools, algorithms"
   ]
  },
  {
   "cell_type": "code",
   "execution_count": null,
   "id": "72b86510",
   "metadata": {},
   "outputs": [
    {
     "name": "stderr",
     "output_type": "stream",
     "text": [
      "/Users/anirbanbhattacharya/opt/anaconda3/envs/LAB/lib/python3.13/site-packages/deap/creator.py:185: RuntimeWarning: A class named 'Strongest' has already been created and it will be overwritten. Consider deleting previous creation of that class or rename it.\n",
      "  warnings.warn(\"A class named '{0}' has already been created and it \"\n",
      "/Users/anirbanbhattacharya/opt/anaconda3/envs/LAB/lib/python3.13/site-packages/deap/creator.py:185: RuntimeWarning: A class named 'Human' has already been created and it will be overwritten. Consider deleting previous creation of that class or rename it.\n",
      "  warnings.warn(\"A class named '{0}' has already been created and it \"\n"
     ]
    }
   ],
   "source": [
    "creator.create(\"Strongest\", base.Fitness, weights=(1.0,))\n",
    "creator.create(\"Human\", list, fitness=creator.Strongest)\n"
   ]
  },
  {
   "cell_type": "code",
   "execution_count": 7,
   "id": "1f810c1a",
   "metadata": {},
   "outputs": [
    {
     "name": "stdout",
     "output_type": "stream",
     "text": [
      "[1, 0, 1, 1, 0]\n"
     ]
    }
   ],
   "source": [
    "man = ind = creator.Human([1, 0, 1, 1, 0])\n",
    "print(man)"
   ]
  },
  {
   "cell_type": "code",
   "execution_count": 10,
   "id": "73bc2419",
   "metadata": {},
   "outputs": [],
   "source": [
    "toolbox = base.Toolbox()\n",
    "toolbox.register(\"attr_bool\",random.randint,0,1)\n",
    "toolbox.register(\"person\",tools.initRepeat,creator.Human,toolbox.attr_bool,n=10)\n",
    "toolbox.register(\"community\",tools.initRepeat,list,toolbox.person)"
   ]
  },
  {
   "cell_type": "code",
   "execution_count": 20,
   "id": "59479bc8",
   "metadata": {},
   "outputs": [
    {
     "name": "stdout",
     "output_type": "stream",
     "text": [
      "0\n",
      "[0, 1, 1, 0, 0, 1, 0, 1, 1, 0]\n",
      "[[0, 1, 0, 0, 1, 0, 1, 0, 1, 0], [1, 0, 0, 1, 0, 1, 0, 0, 0, 1], [1, 1, 1, 0, 0, 0, 1, 1, 1, 0]]\n"
     ]
    }
   ],
   "source": [
    "bit  = toolbox.attr_bool()\n",
    "print(bit)\n",
    "person = toolbox.person()\n",
    "print(person)\n",
    "community = toolbox.community(n=3)\n",
    "print(community)"
   ]
  },
  {
   "cell_type": "code",
   "execution_count": null,
   "id": "906431a7",
   "metadata": {},
   "outputs": [],
   "source": [
    "def evalStrongest(person):\n",
    "    totalOnes = sum(person)\n",
    "    "
   ]
  }
 ],
 "metadata": {
  "kernelspec": {
   "display_name": "LAB",
   "language": "python",
   "name": "python3"
  },
  "language_info": {
   "codemirror_mode": {
    "name": "ipython",
    "version": 3
   },
   "file_extension": ".py",
   "mimetype": "text/x-python",
   "name": "python",
   "nbconvert_exporter": "python",
   "pygments_lexer": "ipython3",
   "version": "3.13.5"
  }
 },
 "nbformat": 4,
 "nbformat_minor": 5
}
